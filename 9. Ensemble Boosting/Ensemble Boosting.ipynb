{
 "cells": [
  {
   "cell_type": "code",
   "execution_count": 6,
   "metadata": {},
   "outputs": [],
   "source": [
    "import numpy as np\n",
    "import pandas as pd\n",
    "import matplotlib.pyplot as plt\n",
    "\n",
    "from sklearn.model_selection import train_test_split\n",
    "from sklearn.tree import DecisionTreeClassifier\n",
    "from sklearn.ensemble import AdaBoostClassifier\n",
    "\n",
    "from sklearn import metrics\n",
    "from sklearn.metrics import accuracy_score\n",
    "from sklearn.metrics import precision_score\n",
    "from sklearn.metrics import recall_score\n",
    "from sklearn.metrics import f1_score\n",
    "from sklearn.metrics import confusion_matrix\n",
    "from sklearn.model_selection import GridSearchCV\n",
    "\n",
    "import seaborn as sns\n",
    "\n",
    "sns.set_theme()"
   ]
  },
  {
   "cell_type": "code",
   "execution_count": 2,
   "metadata": {},
   "outputs": [],
   "source": [
    "bean = pd.read_csv('D:\\\\2021 - Fall Semester\\\\1 - class\\\\577data\\\\Dry_Bean_Dataset.csv')\n",
    "\n",
    "new_bean = bean.replace({'SEKER':0, 'BARBUNYA':1, 'BOMBAY':2, 'CALI':3, 'HOROZ':4, 'SIRA':5, 'DERMASON':6})\n",
    "\n",
    "X = new_bean.iloc[:, 0:-1]\n",
    "y = new_bean['Class']"
   ]
  },
  {
   "cell_type": "code",
   "execution_count": 4,
   "metadata": {},
   "outputs": [],
   "source": [
    "from sklearn.preprocessing import StandardScaler\n",
    "\n",
    "scaler = StandardScaler()\n",
    "X_scaled = X\n",
    "X_scaled[['Area','Perimeter', 'MajorAxisLength','MinorAxisLength', 'ConvexArea', 'EquivDiameter']] = scaler.fit_transform(X_scaled[['Area','Perimeter', 'MajorAxisLength', 'MinorAxisLength', 'ConvexArea', 'EquivDiameter']])"
   ]
  },
  {
   "cell_type": "code",
   "execution_count": 5,
   "metadata": {},
   "outputs": [],
   "source": [
    "X_train, X_test, y_train, y_test = train_test_split(X_scaled, y, test_size = 0.3, random_state = 0)"
   ]
  },
  {
   "cell_type": "code",
   "execution_count": 10,
   "metadata": {},
   "outputs": [
    {
     "data": {
      "text/plain": [
       "AdaBoostClassifier(base_estimator=DecisionTreeClassifier(max_depth=1,\n",
       "                                                         random_state=42),\n",
       "                   learning_rate=0.5, n_estimators=10)"
      ]
     },
     "execution_count": 10,
     "metadata": {},
     "output_type": "execute_result"
    }
   ],
   "source": [
    "ada0 = AdaBoostClassifier(DecisionTreeClassifier(max_depth=1, random_state=42), \n",
    "                             n_estimators = 10,\n",
    "                             algorithm = \"SAMME.R\",\n",
    "                             learning_rate = 0.5)\n",
    "ada0.fit(X_train, y_train)"
   ]
  },
  {
   "cell_type": "code",
   "execution_count": 11,
   "metadata": {},
   "outputs": [
    {
     "name": "stdout",
     "output_type": "stream",
     "text": [
      "The accuracy score is: 0.5683153770812929; the precision score (on a macro averaged basis, the same as the following two index) is: 0.4782680016952273; the recall score is: 0.5585833992273322; and the f1 score is 0.4836973189433519\n"
     ]
    },
    {
     "name": "stderr",
     "output_type": "stream",
     "text": [
      "C:\\Users\\p'c\\AppData\\Roaming\\Python\\Python37\\site-packages\\sklearn\\metrics\\_classification.py:1318: UndefinedMetricWarning: Precision is ill-defined and being set to 0.0 in labels with no predicted samples. Use `zero_division` parameter to control this behavior.\n",
      "  _warn_prf(average, modifier, msg_start, len(result))\n"
     ]
    }
   ],
   "source": [
    "ada_y_pred = ada0.predict(X_test)\n",
    "\n",
    "y_true = y_test\n",
    "\n",
    "print('The accuracy score is: {a}; the precision score (on a macro averaged basis, the same as the following two index) is: {b}; the recall score is: {c}; and the f1 score is {d}'.format(\n",
    "    a = accuracy_score(y_true=y_true, y_pred=ada_y_pred), \n",
    "    b = precision_score(y_true=y_true, y_pred=ada_y_pred, average='macro'), \n",
    "    c = recall_score(y_true=y_true, y_pred=ada_y_pred, average='macro'), \n",
    "    d = f1_score(y_true=y_true, y_pred=ada_y_pred, average='macro')))"
   ]
  },
  {
   "cell_type": "markdown",
   "metadata": {},
   "source": [
    "#### The four scores show that the Adaboost model does not have a good fit to the data. We might need to increase max_depth and n_estimators."
   ]
  },
  {
   "cell_type": "code",
   "execution_count": 12,
   "metadata": {},
   "outputs": [
    {
     "data": {
      "text/plain": [
       "AdaBoostClassifier(base_estimator=DecisionTreeClassifier(max_depth=10,\n",
       "                                                         random_state=0),\n",
       "                   learning_rate=0.5, n_estimators=100)"
      ]
     },
     "execution_count": 12,
     "metadata": {},
     "output_type": "execute_result"
    }
   ],
   "source": [
    "ada1 = AdaBoostClassifier(DecisionTreeClassifier(max_depth=10, random_state=0), \n",
    "                             n_estimators = 100,\n",
    "                             algorithm = \"SAMME.R\",\n",
    "                             learning_rate = 0.5)\n",
    "ada1.fit(X_train, y_train)"
   ]
  },
  {
   "cell_type": "code",
   "execution_count": 13,
   "metadata": {},
   "outputs": [
    {
     "name": "stdout",
     "output_type": "stream",
     "text": [
      "The accuracy score is: 0.9260528893241919; the precision score (on a macro averaged basis, the same as the following two index) is: 0.9406169776184873; the recall score is: 0.9367707537421986; and the f1 score is 0.9384498185117668\n"
     ]
    }
   ],
   "source": [
    "ada1_y_pred = ada1.predict(X_test)\n",
    "\n",
    "y_true = y_test\n",
    "\n",
    "print('The accuracy score is: {a}; the precision score (on a macro averaged basis, the same as the following two index) is: {b}; the recall score is: {c}; and the f1 score is {d}'.format(\n",
    "    a = accuracy_score(y_true=y_true, y_pred=ada1_y_pred), \n",
    "    b = precision_score(y_true=y_true, y_pred=ada1_y_pred, average='macro'), \n",
    "    c = recall_score(y_true=y_true, y_pred=ada1_y_pred, average='macro'), \n",
    "    d = f1_score(y_true=y_true, y_pred=ada1_y_pred, average='macro')))"
   ]
  },
  {
   "cell_type": "markdown",
   "metadata": {},
   "source": [
    "#### It is reasonable that by increasing the tree depth and iteration steps of Adaboost, the model could usually has a good fit on the data. Then, we will use GBDT instead."
   ]
  },
  {
   "cell_type": "code",
   "execution_count": 14,
   "metadata": {},
   "outputs": [
    {
     "data": {
      "text/plain": [
       "GradientBoostingClassifier(learning_rate=0.5, max_depth=10, random_state=0)"
      ]
     },
     "execution_count": 14,
     "metadata": {},
     "output_type": "execute_result"
    }
   ],
   "source": [
    "from sklearn.ensemble import GradientBoostingClassifier\n",
    "\n",
    "gb0 = GradientBoostingClassifier(max_depth=10, n_estimators=100, learning_rate=0.5, random_state=0)\n",
    "\n",
    "gb0.fit(X_train, y_train)"
   ]
  },
  {
   "cell_type": "code",
   "execution_count": 15,
   "metadata": {},
   "outputs": [
    {
     "name": "stdout",
     "output_type": "stream",
     "text": [
      "The accuracy score is: 0.9277668952007836; the precision score (on a macro averaged basis, the same as the following two index) is: 0.9418405368758739; the recall score is: 0.9365335519859496; and the f1 score is 0.9390590132427655\n"
     ]
    }
   ],
   "source": [
    "gb_y_pred = gb0.predict(X_test)\n",
    "\n",
    "y_true = y_test\n",
    "\n",
    "print('The accuracy score is: {a}; the precision score (on a macro averaged basis, the same as the following two index) is: {b}; the recall score is: {c}; and the f1 score is {d}'.format(\n",
    "    a = accuracy_score(y_true=y_true, y_pred=gb_y_pred), \n",
    "    b = precision_score(y_true=y_true, y_pred=gb_y_pred, average='macro'), \n",
    "    c = recall_score(y_true=y_true, y_pred=gb_y_pred, average='macro'), \n",
    "    d = f1_score(y_true=y_true, y_pred=gb_y_pred, average='macro')))"
   ]
  },
  {
   "cell_type": "markdown",
   "metadata": {},
   "source": [
    "#### Both models have almost the same performance in fitting the data, based on the same max_depth, n_estimators and learning rate."
   ]
  }
 ],
 "metadata": {
  "kernelspec": {
   "display_name": "Python 3.7.1 ('base')",
   "language": "python",
   "name": "python3"
  },
  "language_info": {
   "codemirror_mode": {
    "name": "ipython",
    "version": 3
   },
   "file_extension": ".py",
   "mimetype": "text/x-python",
   "name": "python",
   "nbconvert_exporter": "python",
   "pygments_lexer": "ipython3",
   "version": "3.7.1"
  },
  "orig_nbformat": 4,
  "vscode": {
   "interpreter": {
    "hash": "5179d32cf6ec497baf3f8a3ef987cc77c5d2dc691fdde20a56316522f61a7323"
   }
  }
 },
 "nbformat": 4,
 "nbformat_minor": 2
}
