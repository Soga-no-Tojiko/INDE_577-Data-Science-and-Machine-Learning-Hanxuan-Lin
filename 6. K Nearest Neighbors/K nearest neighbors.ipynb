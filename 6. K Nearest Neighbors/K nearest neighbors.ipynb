{
 "cells": [
  {
   "cell_type": "code",
   "execution_count": 4,
   "metadata": {},
   "outputs": [],
   "source": [
    "import matplotlib.pyplot as plt\n",
    "import numpy as np\n",
    "import pandas as pd\n",
    "import seaborn as sns\n",
    "from sklearn.model_selection import train_test_split\n",
    "from sklearn.neighbors import KNeighborsClassifier\n",
    "from sklearn.metrics import confusion_matrix, classification_report"
   ]
  },
  {
   "cell_type": "code",
   "execution_count": 5,
   "metadata": {},
   "outputs": [],
   "source": [
    "# Here we read a much pre-cleaned datasets of loan data from LendingClub in 2018Q3.\n",
    "\n",
    "loan_data = pd.read_csv('D:\\\\2021 - Fall Semester\\\\1 - class\\\\577data\\\\my_loandata.csv')"
   ]
  },
  {
   "cell_type": "code",
   "execution_count": 6,
   "metadata": {},
   "outputs": [
    {
     "data": {
      "text/plain": [
       "<bound method NDFrame.head of       loan_amnt  funded_amnt  funded_amnt_inv  term  int_rate  installment  \\\n",
       "0         16000        16000            16000     0    0.1033       518.76   \n",
       "1         17500        17500            17500     1    0.2235       486.82   \n",
       "2         30000        30000            30000     1    0.1502       714.02   \n",
       "3         20975        20975            20975     0    0.0819       659.13   \n",
       "4         14000        14000            14000     1    0.0819       285.15   \n",
       "...         ...          ...              ...   ...       ...          ...   \n",
       "6523      15000        15000            15000     1    0.1691       372.07   \n",
       "6524       8000         8000             8000     0    0.1131       263.09   \n",
       "6525      15000        15000            15000     1    0.0819       305.52   \n",
       "6526      20000        20000            20000     0    0.0819       628.49   \n",
       "6527      16000        16000            16000     0    0.1298       538.95   \n",
       "\n",
       "      grade  emp_length  home_2ership  annual_inc  ...  num_tl_90g_dpd_24m  \\\n",
       "0         1           3             1     71000.0  ...                   0   \n",
       "1         3           9             0     50000.0  ...                   0   \n",
       "2         2           2             1     90000.0  ...                   0   \n",
       "3         0           2             0    165000.0  ...                   0   \n",
       "4         0           0             1     65000.0  ...                   0   \n",
       "...     ...         ...           ...         ...  ...                 ...   \n",
       "6523      2          11             1     29940.0  ...                   0   \n",
       "6524      1          10             0     99000.0  ...                   1   \n",
       "6525      0           3             0     65000.0  ...                   0   \n",
       "6526      0           1             0    130000.0  ...                   0   \n",
       "6527      1           4             0    147250.0  ...                   0   \n",
       "\n",
       "      num_tl_op_past_12m  pct_tl_nvr_dlq  percent_bc_gt_75  tot_hi_cred_lim  \\\n",
       "0                      7           100.0               0.0           143210   \n",
       "1                      3           100.0              50.0           205817   \n",
       "2                      5           100.0               0.0            92697   \n",
       "3                      1           100.0               0.0           378104   \n",
       "4                      2           100.0               0.0            67082   \n",
       "...                  ...             ...               ...              ...   \n",
       "6523                   3            94.1              33.3             8600   \n",
       "6524                   5           100.0               0.0           124500   \n",
       "6525                   1           100.0              25.0           229218   \n",
       "6526                  10           100.0               0.0           542980   \n",
       "6527                   5           100.0              33.3           658439   \n",
       "\n",
       "      total_bal_ex_mort  total_bc_limit  total_il_high_credit_limit  \\\n",
       "0                 51850           86600                       52610   \n",
       "1                 65858            8900                       61684   \n",
       "2                 75132           14900                       76397   \n",
       "3                111136            7500                       85932   \n",
       "4                 50306           22900                       42182   \n",
       "...                 ...             ...                         ...   \n",
       "6523               3189            2800                           0   \n",
       "6524               6145           23500                           0   \n",
       "6525              13690           33500                        5000   \n",
       "6526             104057           49300                      116880   \n",
       "6527              91074           53600                       75940   \n",
       "\n",
       "      disbursement_method  target  \n",
       "0                       1       1  \n",
       "1                       1       1  \n",
       "2                       1       1  \n",
       "3                       1       1  \n",
       "4                       0       1  \n",
       "...                   ...     ...  \n",
       "6523                    1       0  \n",
       "6524                    1       0  \n",
       "6525                    0       0  \n",
       "6526                    1       0  \n",
       "6527                    0       0  \n",
       "\n",
       "[6528 rows x 81 columns]>"
      ]
     },
     "execution_count": 6,
     "metadata": {},
     "output_type": "execute_result"
    }
   ],
   "source": [
    "loan_data.head"
   ]
  },
  {
   "cell_type": "code",
   "execution_count": 7,
   "metadata": {},
   "outputs": [
    {
     "name": "stdout",
     "output_type": "stream",
     "text": [
      "<class 'pandas.core.frame.DataFrame'>\n",
      "RangeIndex: 6528 entries, 0 to 6527\n",
      "Data columns (total 81 columns):\n",
      " #   Column                      Non-Null Count  Dtype  \n",
      "---  ------                      --------------  -----  \n",
      " 0   loan_amnt                   6528 non-null   int64  \n",
      " 1   funded_amnt                 6528 non-null   int64  \n",
      " 2   funded_amnt_inv             6528 non-null   int64  \n",
      " 3   term                        6528 non-null   int64  \n",
      " 4   int_rate                    6528 non-null   float64\n",
      " 5   installment                 6528 non-null   float64\n",
      " 6   grade                       6528 non-null   int64  \n",
      " 7   emp_length                  6528 non-null   int64  \n",
      " 8   home_2ership                6528 non-null   int64  \n",
      " 9   annual_inc                  6528 non-null   float64\n",
      " 10  verification_status         6528 non-null   int64  \n",
      " 11  purpose                     6528 non-null   int64  \n",
      " 12  title                       6528 non-null   int64  \n",
      " 13  dti                         6520 non-null   float64\n",
      " 14  delinq_2yrs                 6528 non-null   int64  \n",
      " 15  inq_last_6mths              6528 non-null   int64  \n",
      " 16  open_acc                    6528 non-null   int64  \n",
      " 17  revol_bal                   6528 non-null   int64  \n",
      " 18  revol_util                  6522 non-null   float64\n",
      " 19  total_acc                   6528 non-null   int64  \n",
      " 20  initial_list_status         6528 non-null   int64  \n",
      " 21  out_prncp                   6528 non-null   float64\n",
      " 22  out_prncp_inv               6528 non-null   float64\n",
      " 23  total_pymnt                 6528 non-null   float64\n",
      " 24  total_pymnt_inv             6528 non-null   float64\n",
      " 25  total_rec_prncp             6528 non-null   float64\n",
      " 26  total_rec_int               6528 non-null   float64\n",
      " 27  total_rec_late_fee          6528 non-null   float64\n",
      " 28  last_pymnt_amnt             6528 non-null   float64\n",
      " 29  collections_12_mths_ex_med  6528 non-null   int64  \n",
      " 30  application_type            6528 non-null   int64  \n",
      " 31  verification_status_joint   6528 non-null   int64  \n",
      " 32  tot_coll_amt                6528 non-null   int64  \n",
      " 33  tot_cur_bal                 6528 non-null   int64  \n",
      " 34  open_acc_6m                 6528 non-null   int64  \n",
      " 35  open_act_il                 6528 non-null   int64  \n",
      " 36  open_il_12m                 6528 non-null   int64  \n",
      " 37  open_il_24m                 6528 non-null   int64  \n",
      " 38  mths_since_rcnt_il          6272 non-null   float64\n",
      " 39  total_bal_il                6528 non-null   int64  \n",
      " 40  il_util                     5448 non-null   float64\n",
      " 41  open_rv_12m                 6528 non-null   int64  \n",
      " 42  open_rv_24m                 6528 non-null   int64  \n",
      " 43  max_bal_bc                  6528 non-null   int64  \n",
      " 44  all_util                    6526 non-null   float64\n",
      " 45  total_rev_hi_lim            6528 non-null   int64  \n",
      " 46  inq_fi                      6528 non-null   int64  \n",
      " 47  total_cu_tl                 6528 non-null   int64  \n",
      " 48  inq_last_12m                6528 non-null   int64  \n",
      " 49  acc_open_past_24mths        6528 non-null   int64  \n",
      " 50  avg_cur_bal                 6528 non-null   int64  \n",
      " 51  bc_open_to_buy              6433 non-null   float64\n",
      " 52  bc_util                     6433 non-null   float64\n",
      " 53  mo_sin_old_il_acct          6272 non-null   float64\n",
      " 54  mo_sin_old_rev_tl_op        6528 non-null   int64  \n",
      " 55  mo_sin_rcnt_rev_tl_op       6528 non-null   int64  \n",
      " 56  mo_sin_rcnt_tl              6528 non-null   int64  \n",
      " 57  mort_acc                    6528 non-null   int64  \n",
      " 58  mths_since_recent_bc        6441 non-null   float64\n",
      " 59  mths_since_recent_inq       5764 non-null   float64\n",
      " 60  num_accts_ever_120_pd       6528 non-null   int64  \n",
      " 61  num_actv_bc_tl              6528 non-null   int64  \n",
      " 62  num_actv_rev_tl             6528 non-null   int64  \n",
      " 63  num_bc_sats                 6528 non-null   int64  \n",
      " 64  num_bc_tl                   6528 non-null   int64  \n",
      " 65  num_il_tl                   6528 non-null   int64  \n",
      " 66  num_op_rev_tl               6528 non-null   int64  \n",
      " 67  num_rev_accts               6528 non-null   int64  \n",
      " 68  num_rev_tl_bal_gt_0         6528 non-null   int64  \n",
      " 69  num_sats                    6528 non-null   int64  \n",
      " 70  num_tl_120dpd_2m            6390 non-null   float64\n",
      " 71  num_tl_90g_dpd_24m          6528 non-null   int64  \n",
      " 72  num_tl_op_past_12m          6528 non-null   int64  \n",
      " 73  pct_tl_nvr_dlq              6528 non-null   float64\n",
      " 74  percent_bc_gt_75            6433 non-null   float64\n",
      " 75  tot_hi_cred_lim             6528 non-null   int64  \n",
      " 76  total_bal_ex_mort           6528 non-null   int64  \n",
      " 77  total_bc_limit              6528 non-null   int64  \n",
      " 78  total_il_high_credit_limit  6528 non-null   int64  \n",
      " 79  disbursement_method         6528 non-null   int64  \n",
      " 80  target                      6528 non-null   int64  \n",
      "dtypes: float64(24), int64(57)\n",
      "memory usage: 4.0 MB\n"
     ]
    }
   ],
   "source": [
    "loan_data.info()"
   ]
  },
  {
   "cell_type": "code",
   "execution_count": 31,
   "metadata": {},
   "outputs": [],
   "source": [
    "# Since the datasets are pre-cleaned to a large extent, we only drop every rows that includes any NAN to prepare it for KNN analysis.\n",
    "\n",
    "loan = loan_data.dropna(axis=0, how='any')"
   ]
  },
  {
   "cell_type": "code",
   "execution_count": 9,
   "metadata": {},
   "outputs": [
    {
     "data": {
      "text/plain": [
       "(4715, 81)"
      ]
     },
     "execution_count": 9,
     "metadata": {},
     "output_type": "execute_result"
    }
   ],
   "source": [
    "# Basically we drop 30 thousands rows. This is just for convienence because KNN cannot process NAN values like ensemble trees.\n",
    "\n",
    "loan.shape"
   ]
  },
  {
   "cell_type": "code",
   "execution_count": 32,
   "metadata": {},
   "outputs": [],
   "source": [
    "loan.reset_index(inplace=True)"
   ]
  },
  {
   "cell_type": "code",
   "execution_count": 33,
   "metadata": {},
   "outputs": [
    {
     "name": "stderr",
     "output_type": "stream",
     "text": [
      "C:\\Users\\p'c\\AppData\\Roaming\\Python\\Python37\\site-packages\\pandas\\core\\frame.py:4913: SettingWithCopyWarning: \n",
      "A value is trying to be set on a copy of a slice from a DataFrame\n",
      "\n",
      "See the caveats in the documentation: https://pandas.pydata.org/pandas-docs/stable/user_guide/indexing.html#returning-a-view-versus-a-copy\n",
      "  errors=errors,\n"
     ]
    }
   ],
   "source": [
    "loan.drop(columns = ['index'], axis=1, inplace=True)"
   ]
  },
  {
   "cell_type": "code",
   "execution_count": 34,
   "metadata": {},
   "outputs": [
    {
     "data": {
      "text/html": [
       "<div>\n",
       "<style scoped>\n",
       "    .dataframe tbody tr th:only-of-type {\n",
       "        vertical-align: middle;\n",
       "    }\n",
       "\n",
       "    .dataframe tbody tr th {\n",
       "        vertical-align: top;\n",
       "    }\n",
       "\n",
       "    .dataframe thead th {\n",
       "        text-align: right;\n",
       "    }\n",
       "</style>\n",
       "<table border=\"1\" class=\"dataframe\">\n",
       "  <thead>\n",
       "    <tr style=\"text-align: right;\">\n",
       "      <th></th>\n",
       "      <th>loan_amnt</th>\n",
       "      <th>funded_amnt</th>\n",
       "      <th>funded_amnt_inv</th>\n",
       "      <th>term</th>\n",
       "      <th>int_rate</th>\n",
       "      <th>installment</th>\n",
       "      <th>grade</th>\n",
       "      <th>emp_length</th>\n",
       "      <th>home_2ership</th>\n",
       "      <th>annual_inc</th>\n",
       "      <th>...</th>\n",
       "      <th>num_tl_90g_dpd_24m</th>\n",
       "      <th>num_tl_op_past_12m</th>\n",
       "      <th>pct_tl_nvr_dlq</th>\n",
       "      <th>percent_bc_gt_75</th>\n",
       "      <th>tot_hi_cred_lim</th>\n",
       "      <th>total_bal_ex_mort</th>\n",
       "      <th>total_bc_limit</th>\n",
       "      <th>total_il_high_credit_limit</th>\n",
       "      <th>disbursement_method</th>\n",
       "      <th>target</th>\n",
       "    </tr>\n",
       "  </thead>\n",
       "  <tbody>\n",
       "    <tr>\n",
       "      <th>0</th>\n",
       "      <td>16000</td>\n",
       "      <td>16000</td>\n",
       "      <td>16000</td>\n",
       "      <td>0</td>\n",
       "      <td>0.1033</td>\n",
       "      <td>518.76</td>\n",
       "      <td>1</td>\n",
       "      <td>3</td>\n",
       "      <td>1</td>\n",
       "      <td>71000.0</td>\n",
       "      <td>...</td>\n",
       "      <td>0</td>\n",
       "      <td>7</td>\n",
       "      <td>100.0</td>\n",
       "      <td>0.0</td>\n",
       "      <td>143210</td>\n",
       "      <td>51850</td>\n",
       "      <td>86600</td>\n",
       "      <td>52610</td>\n",
       "      <td>1</td>\n",
       "      <td>1</td>\n",
       "    </tr>\n",
       "    <tr>\n",
       "      <th>1</th>\n",
       "      <td>17500</td>\n",
       "      <td>17500</td>\n",
       "      <td>17500</td>\n",
       "      <td>1</td>\n",
       "      <td>0.2235</td>\n",
       "      <td>486.82</td>\n",
       "      <td>3</td>\n",
       "      <td>9</td>\n",
       "      <td>0</td>\n",
       "      <td>50000.0</td>\n",
       "      <td>...</td>\n",
       "      <td>0</td>\n",
       "      <td>3</td>\n",
       "      <td>100.0</td>\n",
       "      <td>50.0</td>\n",
       "      <td>205817</td>\n",
       "      <td>65858</td>\n",
       "      <td>8900</td>\n",
       "      <td>61684</td>\n",
       "      <td>1</td>\n",
       "      <td>1</td>\n",
       "    </tr>\n",
       "    <tr>\n",
       "      <th>2</th>\n",
       "      <td>30000</td>\n",
       "      <td>30000</td>\n",
       "      <td>30000</td>\n",
       "      <td>1</td>\n",
       "      <td>0.1502</td>\n",
       "      <td>714.02</td>\n",
       "      <td>2</td>\n",
       "      <td>2</td>\n",
       "      <td>1</td>\n",
       "      <td>90000.0</td>\n",
       "      <td>...</td>\n",
       "      <td>0</td>\n",
       "      <td>5</td>\n",
       "      <td>100.0</td>\n",
       "      <td>0.0</td>\n",
       "      <td>92697</td>\n",
       "      <td>75132</td>\n",
       "      <td>14900</td>\n",
       "      <td>76397</td>\n",
       "      <td>1</td>\n",
       "      <td>1</td>\n",
       "    </tr>\n",
       "    <tr>\n",
       "      <th>3</th>\n",
       "      <td>32000</td>\n",
       "      <td>32000</td>\n",
       "      <td>32000</td>\n",
       "      <td>0</td>\n",
       "      <td>0.1180</td>\n",
       "      <td>1059.81</td>\n",
       "      <td>1</td>\n",
       "      <td>0</td>\n",
       "      <td>1</td>\n",
       "      <td>50000.0</td>\n",
       "      <td>...</td>\n",
       "      <td>0</td>\n",
       "      <td>2</td>\n",
       "      <td>92.9</td>\n",
       "      <td>0.0</td>\n",
       "      <td>33529</td>\n",
       "      <td>32405</td>\n",
       "      <td>500</td>\n",
       "      <td>29329</td>\n",
       "      <td>1</td>\n",
       "      <td>1</td>\n",
       "    </tr>\n",
       "    <tr>\n",
       "      <th>4</th>\n",
       "      <td>9100</td>\n",
       "      <td>9100</td>\n",
       "      <td>9100</td>\n",
       "      <td>0</td>\n",
       "      <td>0.2631</td>\n",
       "      <td>368.15</td>\n",
       "      <td>4</td>\n",
       "      <td>3</td>\n",
       "      <td>2</td>\n",
       "      <td>62000.0</td>\n",
       "      <td>...</td>\n",
       "      <td>0</td>\n",
       "      <td>3</td>\n",
       "      <td>95.5</td>\n",
       "      <td>0.0</td>\n",
       "      <td>67696</td>\n",
       "      <td>32619</td>\n",
       "      <td>34500</td>\n",
       "      <td>33196</td>\n",
       "      <td>1</td>\n",
       "      <td>1</td>\n",
       "    </tr>\n",
       "    <tr>\n",
       "      <th>...</th>\n",
       "      <td>...</td>\n",
       "      <td>...</td>\n",
       "      <td>...</td>\n",
       "      <td>...</td>\n",
       "      <td>...</td>\n",
       "      <td>...</td>\n",
       "      <td>...</td>\n",
       "      <td>...</td>\n",
       "      <td>...</td>\n",
       "      <td>...</td>\n",
       "      <td>...</td>\n",
       "      <td>...</td>\n",
       "      <td>...</td>\n",
       "      <td>...</td>\n",
       "      <td>...</td>\n",
       "      <td>...</td>\n",
       "      <td>...</td>\n",
       "      <td>...</td>\n",
       "      <td>...</td>\n",
       "      <td>...</td>\n",
       "      <td>...</td>\n",
       "    </tr>\n",
       "    <tr>\n",
       "      <th>4710</th>\n",
       "      <td>12000</td>\n",
       "      <td>12000</td>\n",
       "      <td>12000</td>\n",
       "      <td>1</td>\n",
       "      <td>0.1072</td>\n",
       "      <td>259.24</td>\n",
       "      <td>1</td>\n",
       "      <td>8</td>\n",
       "      <td>1</td>\n",
       "      <td>65000.0</td>\n",
       "      <td>...</td>\n",
       "      <td>0</td>\n",
       "      <td>1</td>\n",
       "      <td>95.0</td>\n",
       "      <td>0.0</td>\n",
       "      <td>82648</td>\n",
       "      <td>33672</td>\n",
       "      <td>20600</td>\n",
       "      <td>41848</td>\n",
       "      <td>0</td>\n",
       "      <td>0</td>\n",
       "    </tr>\n",
       "    <tr>\n",
       "      <th>4711</th>\n",
       "      <td>15700</td>\n",
       "      <td>15700</td>\n",
       "      <td>15700</td>\n",
       "      <td>0</td>\n",
       "      <td>0.1356</td>\n",
       "      <td>533.24</td>\n",
       "      <td>2</td>\n",
       "      <td>5</td>\n",
       "      <td>0</td>\n",
       "      <td>126000.0</td>\n",
       "      <td>...</td>\n",
       "      <td>0</td>\n",
       "      <td>3</td>\n",
       "      <td>100.0</td>\n",
       "      <td>50.0</td>\n",
       "      <td>319569</td>\n",
       "      <td>54214</td>\n",
       "      <td>15000</td>\n",
       "      <td>39119</td>\n",
       "      <td>1</td>\n",
       "      <td>0</td>\n",
       "    </tr>\n",
       "    <tr>\n",
       "      <th>4712</th>\n",
       "      <td>15000</td>\n",
       "      <td>15000</td>\n",
       "      <td>15000</td>\n",
       "      <td>1</td>\n",
       "      <td>0.0819</td>\n",
       "      <td>305.52</td>\n",
       "      <td>0</td>\n",
       "      <td>3</td>\n",
       "      <td>0</td>\n",
       "      <td>65000.0</td>\n",
       "      <td>...</td>\n",
       "      <td>0</td>\n",
       "      <td>1</td>\n",
       "      <td>100.0</td>\n",
       "      <td>25.0</td>\n",
       "      <td>229218</td>\n",
       "      <td>13690</td>\n",
       "      <td>33500</td>\n",
       "      <td>5000</td>\n",
       "      <td>0</td>\n",
       "      <td>0</td>\n",
       "    </tr>\n",
       "    <tr>\n",
       "      <th>4713</th>\n",
       "      <td>20000</td>\n",
       "      <td>20000</td>\n",
       "      <td>20000</td>\n",
       "      <td>0</td>\n",
       "      <td>0.0819</td>\n",
       "      <td>628.49</td>\n",
       "      <td>0</td>\n",
       "      <td>1</td>\n",
       "      <td>0</td>\n",
       "      <td>130000.0</td>\n",
       "      <td>...</td>\n",
       "      <td>0</td>\n",
       "      <td>10</td>\n",
       "      <td>100.0</td>\n",
       "      <td>0.0</td>\n",
       "      <td>542980</td>\n",
       "      <td>104057</td>\n",
       "      <td>49300</td>\n",
       "      <td>116880</td>\n",
       "      <td>1</td>\n",
       "      <td>0</td>\n",
       "    </tr>\n",
       "    <tr>\n",
       "      <th>4714</th>\n",
       "      <td>16000</td>\n",
       "      <td>16000</td>\n",
       "      <td>16000</td>\n",
       "      <td>0</td>\n",
       "      <td>0.1298</td>\n",
       "      <td>538.95</td>\n",
       "      <td>1</td>\n",
       "      <td>4</td>\n",
       "      <td>0</td>\n",
       "      <td>147250.0</td>\n",
       "      <td>...</td>\n",
       "      <td>0</td>\n",
       "      <td>5</td>\n",
       "      <td>100.0</td>\n",
       "      <td>33.3</td>\n",
       "      <td>658439</td>\n",
       "      <td>91074</td>\n",
       "      <td>53600</td>\n",
       "      <td>75940</td>\n",
       "      <td>0</td>\n",
       "      <td>0</td>\n",
       "    </tr>\n",
       "  </tbody>\n",
       "</table>\n",
       "<p>4715 rows × 81 columns</p>\n",
       "</div>"
      ],
      "text/plain": [
       "      loan_amnt  funded_amnt  funded_amnt_inv  term  int_rate  installment  \\\n",
       "0         16000        16000            16000     0    0.1033       518.76   \n",
       "1         17500        17500            17500     1    0.2235       486.82   \n",
       "2         30000        30000            30000     1    0.1502       714.02   \n",
       "3         32000        32000            32000     0    0.1180      1059.81   \n",
       "4          9100         9100             9100     0    0.2631       368.15   \n",
       "...         ...          ...              ...   ...       ...          ...   \n",
       "4710      12000        12000            12000     1    0.1072       259.24   \n",
       "4711      15700        15700            15700     0    0.1356       533.24   \n",
       "4712      15000        15000            15000     1    0.0819       305.52   \n",
       "4713      20000        20000            20000     0    0.0819       628.49   \n",
       "4714      16000        16000            16000     0    0.1298       538.95   \n",
       "\n",
       "      grade  emp_length  home_2ership  annual_inc  ...  num_tl_90g_dpd_24m  \\\n",
       "0         1           3             1     71000.0  ...                   0   \n",
       "1         3           9             0     50000.0  ...                   0   \n",
       "2         2           2             1     90000.0  ...                   0   \n",
       "3         1           0             1     50000.0  ...                   0   \n",
       "4         4           3             2     62000.0  ...                   0   \n",
       "...     ...         ...           ...         ...  ...                 ...   \n",
       "4710      1           8             1     65000.0  ...                   0   \n",
       "4711      2           5             0    126000.0  ...                   0   \n",
       "4712      0           3             0     65000.0  ...                   0   \n",
       "4713      0           1             0    130000.0  ...                   0   \n",
       "4714      1           4             0    147250.0  ...                   0   \n",
       "\n",
       "      num_tl_op_past_12m  pct_tl_nvr_dlq  percent_bc_gt_75  tot_hi_cred_lim  \\\n",
       "0                      7           100.0               0.0           143210   \n",
       "1                      3           100.0              50.0           205817   \n",
       "2                      5           100.0               0.0            92697   \n",
       "3                      2            92.9               0.0            33529   \n",
       "4                      3            95.5               0.0            67696   \n",
       "...                  ...             ...               ...              ...   \n",
       "4710                   1            95.0               0.0            82648   \n",
       "4711                   3           100.0              50.0           319569   \n",
       "4712                   1           100.0              25.0           229218   \n",
       "4713                  10           100.0               0.0           542980   \n",
       "4714                   5           100.0              33.3           658439   \n",
       "\n",
       "      total_bal_ex_mort  total_bc_limit  total_il_high_credit_limit  \\\n",
       "0                 51850           86600                       52610   \n",
       "1                 65858            8900                       61684   \n",
       "2                 75132           14900                       76397   \n",
       "3                 32405             500                       29329   \n",
       "4                 32619           34500                       33196   \n",
       "...                 ...             ...                         ...   \n",
       "4710              33672           20600                       41848   \n",
       "4711              54214           15000                       39119   \n",
       "4712              13690           33500                        5000   \n",
       "4713             104057           49300                      116880   \n",
       "4714              91074           53600                       75940   \n",
       "\n",
       "      disbursement_method  target  \n",
       "0                       1       1  \n",
       "1                       1       1  \n",
       "2                       1       1  \n",
       "3                       1       1  \n",
       "4                       1       1  \n",
       "...                   ...     ...  \n",
       "4710                    0       0  \n",
       "4711                    1       0  \n",
       "4712                    0       0  \n",
       "4713                    1       0  \n",
       "4714                    0       0  \n",
       "\n",
       "[4715 rows x 81 columns]"
      ]
     },
     "execution_count": 34,
     "metadata": {},
     "output_type": "execute_result"
    }
   ],
   "source": [
    "loan"
   ]
  },
  {
   "cell_type": "code",
   "execution_count": 10,
   "metadata": {},
   "outputs": [],
   "source": [
    "# Building the K-nearest neighbours algorithm with scikit-learn. First we divide the dataset into train and test.\n",
    "\n",
    "X = loan.loc[:, 'loan_amnt':'disbursement_method']\n",
    "y = loan['target']\n",
    "\n",
    "train_x, test_x, y_train, y_test = train_test_split(X, y, test_size=0.3, random_state = 0)"
   ]
  },
  {
   "cell_type": "code",
   "execution_count": 11,
   "metadata": {},
   "outputs": [
    {
     "data": {
      "text/plain": [
       "(3300, 80)"
      ]
     },
     "execution_count": 11,
     "metadata": {},
     "output_type": "execute_result"
    }
   ],
   "source": [
    "train_x.shape"
   ]
  },
  {
   "cell_type": "code",
   "execution_count": 12,
   "metadata": {},
   "outputs": [],
   "source": [
    "# Create a knn object with a neighbor number of 7\n",
    "knn1 = KNeighborsClassifier(n_neighbors=7)"
   ]
  },
  {
   "cell_type": "code",
   "execution_count": 13,
   "metadata": {},
   "outputs": [
    {
     "data": {
      "text/plain": [
       "KNeighborsClassifier(n_neighbors=7)"
      ]
     },
     "execution_count": 13,
     "metadata": {},
     "output_type": "execute_result"
    }
   ],
   "source": [
    "knn1.fit(train_x, y_train)"
   ]
  },
  {
   "cell_type": "code",
   "execution_count": 14,
   "metadata": {},
   "outputs": [],
   "source": [
    "y_pred = knn1.predict(test_x)"
   ]
  },
  {
   "cell_type": "code",
   "execution_count": 15,
   "metadata": {},
   "outputs": [
    {
     "name": "stdout",
     "output_type": "stream",
     "text": [
      "Accuracy on training set: 0.7581818181818182 Accuracy on testing set: 0.7074204946996466\n"
     ]
    }
   ],
   "source": [
    "print(\"Accuracy on training set:\", knn1.score(train_x, y_train),\"Accuracy on testing set:\", knn1.score(test_x, y_test))"
   ]
  },
  {
   "cell_type": "code",
   "execution_count": 16,
   "metadata": {},
   "outputs": [
    {
     "name": "stdout",
     "output_type": "stream",
     "text": [
      "[[965  93]\n",
      " [321  36]]\n"
     ]
    }
   ],
   "source": [
    "confusion = confusion_matrix(y_test, y_pred)\n",
    "print(confusion)"
   ]
  },
  {
   "cell_type": "code",
   "execution_count": 17,
   "metadata": {},
   "outputs": [
    {
     "name": "stdout",
     "output_type": "stream",
     "text": [
      "              precision    recall  f1-score   support\n",
      "\n",
      "           0       0.75      0.91      0.82      1058\n",
      "           1       0.28      0.10      0.15       357\n",
      "\n",
      "    accuracy                           0.71      1415\n",
      "   macro avg       0.51      0.51      0.49      1415\n",
      "weighted avg       0.63      0.71      0.65      1415\n",
      "\n"
     ]
    }
   ],
   "source": [
    "print(classification_report(y_test, y_pred))"
   ]
  },
  {
   "cell_type": "code",
   "execution_count": 18,
   "metadata": {},
   "outputs": [],
   "source": [
    "# Rolling over different K and choose the best one\n",
    "\n",
    "k_score = []\n",
    "\n",
    "for k in range(3, 50):\n",
    "    knn_k = KNeighborsClassifier(n_neighbors=k)\n",
    "    knn_k.fit(train_x, y_train)\n",
    "    score = knn_k.score(test_x, y_test)\n",
    "    k_score.append(score)"
   ]
  },
  {
   "cell_type": "code",
   "execution_count": 19,
   "metadata": {},
   "outputs": [
    {
     "data": {
      "image/png": "[encoded data removed]",
      "text/plain": [
       "<Figure size 864x432 with 1 Axes>"
      ]
     },
     "metadata": {
      "needs_background": "light"
     },
     "output_type": "display_data"
    }
   ],
   "source": [
    "plt.figure(figsize=(12,6))\n",
    "plt.plot(range(3,50), k_score, marker='o',color = 'green')\n",
    "plt.xlabel ('K for KNN')\n",
    "plt.ylabel ('Accuracy on test')\n",
    "plt.show()"
   ]
  },
  {
   "cell_type": "code",
   "execution_count": 20,
   "metadata": {},
   "outputs": [
    {
     "data": {
      "image/png": "[encoded data removed]",
      "text/plain": [
       "<Figure size 864x432 with 1 Axes>"
      ]
     },
     "metadata": {
      "needs_background": "light"
     },
     "output_type": "display_data"
    }
   ],
   "source": [
    "# Re-search the best K within 30 and 42\n",
    "\n",
    "plt.figure(figsize=(12,6))\n",
    "plt.plot(range(30,42), k_score[30:42], marker='o',color = 'green')\n",
    "plt.xlabel ('K for KNN')\n",
    "plt.ylabel ('Accuracy on test')\n",
    "plt.show()"
   ]
  },
  {
   "cell_type": "markdown",
   "metadata": {},
   "source": [
    "# So we find that the best K is 34."
   ]
  },
  {
   "cell_type": "code",
   "execution_count": 46,
   "metadata": {},
   "outputs": [],
   "source": [
    "# Self Defining KNN function and distance calculation functions\n",
    "\n",
    "def euclidean_dist(p, q):\n",
    "    dist = np.sqrt(np.sum((p-q)**2))\n",
    "    return(dist)\n",
    "\n",
    "def my_knn_fit(data_point, X_point, y_point, k):\n",
    "    neighbors = []\n",
    "    for i, j in enumerate(X_point):\n",
    "        dist = euclidean_dist(data_point, j)\n",
    "        t = [j, y_point[i], dist]\n",
    "        neighbors.append(t)\n",
    "        \n",
    "    neighbors.sort(key = lambda x : x[-1])\n",
    "    \n",
    "    return(neighbors[:k])"
   ]
  },
  {
   "cell_type": "code",
   "execution_count": 22,
   "metadata": {},
   "outputs": [],
   "source": [
    "train_x_np = train_x.to_numpy()\n",
    "test_x_np = test_x.to_numpy()\n",
    "y_train_np = y_train.to_numpy()\n",
    "y_test_np = y_test.to_numpy()"
   ]
  },
  {
   "cell_type": "code",
   "execution_count": 47,
   "metadata": {},
   "outputs": [
    {
     "data": {
      "text/plain": [
       "[[array([ 1.300000e+04,  1.300000e+04,  1.300000e+04,  1.000000e+00,\n",
       "          8.190000e-02,  2.647800e+02,  0.000000e+00,  1.000000e+01,\n",
       "          0.000000e+00,  1.200000e+05,  0.000000e+00,  0.000000e+00,\n",
       "          0.000000e+00,  4.300000e+00,  1.000000e+00,  0.000000e+00,\n",
       "          1.500000e+01,  1.763500e+04,  2.290000e-01,  3.800000e+01,\n",
       "          1.000000e+00,  1.264669e+04,  1.264669e+04,  5.206900e+02,\n",
       "          5.206900e+02,  3.533100e+02,  1.673800e+02,  0.000000e+00,\n",
       "          2.647800e+02,  0.000000e+00,  0.000000e+00, -1.000000e+00,\n",
       "          8.200000e+01,  6.169010e+05,  5.000000e+00,  3.000000e+00,\n",
       "          1.000000e+00,  1.000000e+00,  6.000000e+00,  1.124500e+04,\n",
       "          4.400000e+01,  2.000000e+00,  3.000000e+00,  8.230000e+03,\n",
       "          2.800000e+01,  7.700000e+04,  2.000000e+00,  0.000000e+00,\n",
       "          3.000000e+00,  6.000000e+00,  4.112700e+04,  4.936500e+04,\n",
       "          2.520000e+01,  2.290000e+02,  1.480000e+02,  0.000000e+00,\n",
       "          0.000000e+00,  6.000000e+00,  2.400000e+01,  6.000000e+00,\n",
       "          0.000000e+00,  3.000000e+00,  5.000000e+00,  5.000000e+00,\n",
       "          1.000000e+01,  1.600000e+01,  1.000000e+01,  1.600000e+01,\n",
       "          5.000000e+00,  1.500000e+01,  0.000000e+00,  0.000000e+00,\n",
       "          5.000000e+00,  9.740000e+01,  0.000000e+00,  7.053900e+05,\n",
       "          2.888000e+04,  6.600000e+04,  2.539000e+04,  0.000000e+00]),\n",
       "  0,\n",
       "  56249.99251175684],\n",
       " [array([ 2.000000e+04,  2.000000e+04,  2.000000e+04,  0.000000e+00,\n",
       "          7.560000e-02,  6.226800e+02,  0.000000e+00,  2.000000e+00,\n",
       "          0.000000e+00,  1.300000e+05,  1.000000e+00,  0.000000e+00,\n",
       "          0.000000e+00,  8.960000e+00,  0.000000e+00,  0.000000e+00,\n",
       "          1.000000e+01,  8.966000e+03,  1.150000e-01,  1.800000e+01,\n",
       "          1.000000e+00,  1.850055e+04,  1.850055e+04,  1.847040e+03,\n",
       "          1.847040e+03,  1.499450e+03,  3.475900e+02,  0.000000e+00,\n",
       "          6.226800e+02,  0.000000e+00,  0.000000e+00, -1.000000e+00,\n",
       "          0.000000e+00,  6.264840e+05,  0.000000e+00,  2.000000e+00,\n",
       "          0.000000e+00,  1.000000e+00,  1.800000e+01,  1.416200e+04,\n",
       "          4.700000e+01,  1.000000e+00,  1.000000e+00,  4.401000e+03,\n",
       "          2.200000e+01,  7.790000e+04,  0.000000e+00,  0.000000e+00,\n",
       "          1.000000e+00,  5.000000e+00,  6.264800e+04,  6.893400e+04,\n",
       "          1.150000e+01,  9.000000e+01,  1.120000e+02,  7.000000e+00,\n",
       "          7.000000e+00,  1.000000e+00,  7.000000e+00,  9.000000e+00,\n",
       "          0.000000e+00,  6.000000e+00,  6.000000e+00,  6.000000e+00,\n",
       "          7.000000e+00,  4.000000e+00,  6.000000e+00,  1.100000e+01,\n",
       "          6.000000e+00,  1.000000e+01,  0.000000e+00,  0.000000e+00,\n",
       "          3.000000e+00,  1.000000e+02,  0.000000e+00,  7.183060e+05,\n",
       "          2.428000e+04,  7.790000e+04,  3.038300e+04,  1.000000e+00]),\n",
       "  0,\n",
       "  64167.20582424584]]"
      ]
     },
     "execution_count": 47,
     "metadata": {},
     "output_type": "execute_result"
    }
   ],
   "source": [
    "my_knn_fit(test_x_np[0], train_x_np, y_train_np, 2)  # Since there are too many columns, we only set K=2 to illustrate the results"
   ]
  },
  {
   "cell_type": "code",
   "execution_count": 48,
   "metadata": {},
   "outputs": [
    {
     "data": {
      "text/plain": [
       "array([ 2.500000e+04,  2.500000e+04,  2.500000e+04,  1.000000e+00,\n",
       "        1.502000e-01,  5.950200e+02,  2.000000e+00,  2.000000e+00,\n",
       "        0.000000e+00,  1.300000e+05,  2.000000e+00,  0.000000e+00,\n",
       "        0.000000e+00,  1.241000e+01,  3.000000e+00,  0.000000e+00,\n",
       "        1.300000e+01,  2.072100e+04,  2.730000e-01,  3.100000e+01,\n",
       "        1.000000e+00,  2.443226e+04,  2.443226e+04,  1.158750e+03,\n",
       "        1.158750e+03,  5.677400e+02,  5.910100e+02,  0.000000e+00,\n",
       "        5.950200e+02,  0.000000e+00,  0.000000e+00, -1.000000e+00,\n",
       "        0.000000e+00,  6.177810e+05,  1.000000e+00,  2.000000e+00,\n",
       "        0.000000e+00,  0.000000e+00,  2.600000e+01,  3.707300e+04,\n",
       "        3.000000e+01,  0.000000e+00,  0.000000e+00,  1.346200e+04,\n",
       "        2.600000e+01,  7.600000e+04,  2.000000e+00,  0.000000e+00,\n",
       "        1.000000e+00,  2.000000e+00,  4.752200e+04,  4.297900e+04,\n",
       "        3.250000e+01,  1.230000e+02,  4.120000e+02,  2.900000e+01,\n",
       "        3.000000e+00,  8.000000e+00,  2.900000e+01,  4.000000e+00,\n",
       "        0.000000e+00,  3.000000e+00,  3.000000e+00,  6.000000e+00,\n",
       "        7.000000e+00,  9.000000e+00,  8.000000e+00,  1.200000e+01,\n",
       "        3.000000e+00,  1.300000e+01,  0.000000e+00,  0.000000e+00,\n",
       "        2.000000e+00,  9.030000e+01,  0.000000e+00,  6.963810e+05,\n",
       "        5.887600e+04,  6.370000e+04,  4.945800e+04,  1.000000e+00])"
      ]
     },
     "execution_count": 48,
     "metadata": {},
     "output_type": "execute_result"
    }
   ],
   "source": [
    "test_x_np[0]"
   ]
  },
  {
   "cell_type": "code",
   "execution_count": 79,
   "metadata": {},
   "outputs": [],
   "source": [
    "def my_knn_predict(data_point, X_point, y_point, k):\n",
    "\n",
    "    neighbors = my_knn_fit(data_point, X_point, y_point, k)\n",
    "    labels = [x[1] for x in neighbors]\n",
    "    p = max(labels, key = labels.count)\n",
    "    return(p)"
   ]
  },
  {
   "cell_type": "code",
   "execution_count": 80,
   "metadata": {},
   "outputs": [],
   "source": [
    "y_pred_np = my_knn_predict(test_x_np[1], train_x_np, y_train_np, 34)"
   ]
  },
  {
   "cell_type": "code",
   "execution_count": 81,
   "metadata": {},
   "outputs": [
    {
     "name": "stdout",
     "output_type": "stream",
     "text": [
      "[ 9.00000e+03  9.00000e+03  9.00000e+03  0.00000e+00  1.61400e-01\n",
      "  3.17040e+02  2.00000e+00  1.00000e+01  0.00000e+00  8.06000e+04\n",
      "  1.00000e+00  1.00000e+00  1.00000e+00  1.47100e+01  0.00000e+00\n",
      "  0.00000e+00  8.00000e+00  1.19290e+04  7.50000e-01  1.00000e+01\n",
      "  1.00000e+00  8.40409e+03  8.40409e+03  9.30940e+02  9.30940e+02\n",
      "  5.95910e+02  3.35030e+02  0.00000e+00  3.17040e+02  0.00000e+00\n",
      "  0.00000e+00 -1.00000e+00  0.00000e+00  1.32424e+05  0.00000e+00\n",
      "  1.00000e+00  0.00000e+00  1.00000e+00  2.10000e+01  2.86280e+04\n",
      "  8.40000e+01  1.00000e+00  3.00000e+00  5.16900e+03  8.10000e+01\n",
      "  1.59000e+04  2.00000e+00  0.00000e+00  1.00000e+00  5.00000e+00\n",
      "  1.65530e+04  2.30200e+03  8.36000e+01  1.15000e+02  4.80000e+01\n",
      "  1.20000e+01  8.00000e+00  1.00000e+00  1.20000e+01  1.10000e+01\n",
      "  0.00000e+00  3.00000e+00  4.00000e+00  4.00000e+00  4.00000e+00\n",
      "  3.00000e+00  6.00000e+00  6.00000e+00  4.00000e+00  8.00000e+00\n",
      "  0.00000e+00  0.00000e+00  2.00000e+00  1.00000e+02  7.50000e+01\n",
      "  1.42458e+05  4.05570e+04  1.40000e+04  3.40170e+04  0.00000e+00] 0 0\n"
     ]
    }
   ],
   "source": [
    "print(test_x_np[1], y_test_np[1], y_pred_np)"
   ]
  },
  {
   "cell_type": "code",
   "execution_count": 68,
   "metadata": {},
   "outputs": [],
   "source": [
    "def my_error(train_x, test_x, y_train, y_test, k):\n",
    "    error = 0\n",
    "    for i, p in enumerate(test_x):\n",
    "        error += y_test[i] != my_knn_predict(p, train_x, y_train, k)\n",
    "    return error/k"
   ]
  },
  {
   "cell_type": "code",
   "execution_count": 82,
   "metadata": {},
   "outputs": [
    {
     "data": {
      "text/plain": [
       "10.529411764705882"
      ]
     },
     "execution_count": 82,
     "metadata": {},
     "output_type": "execute_result"
    }
   ],
   "source": [
    "error = my_error(train_x_np, test_x_np, y_train_np, y_test_np, 34)\n",
    "error"
   ]
  },
  {
   "cell_type": "code",
   "execution_count": 84,
   "metadata": {},
   "outputs": [],
   "source": [
    "predicted_labels = np.array([my_knn_predict(point, train_x_np, y_train_np, 34) for point in test_x_np])"
   ]
  },
  {
   "cell_type": "code",
   "execution_count": 85,
   "metadata": {},
   "outputs": [
    {
     "name": "stdout",
     "output_type": "stream",
     "text": [
      "[[1053    5]\n",
      " [ 353    4]]\n"
     ]
    }
   ],
   "source": [
    "confusion_2 = confusion_matrix(y_test_np, predicted_labels)\n",
    "print(confusion_2)"
   ]
  },
  {
   "cell_type": "code",
   "execution_count": 86,
   "metadata": {},
   "outputs": [
    {
     "data": {
      "text/plain": [
       "array([[965,  93],\n",
       "       [321,  36]], dtype=int64)"
      ]
     },
     "execution_count": 86,
     "metadata": {},
     "output_type": "execute_result"
    }
   ],
   "source": [
    "confusion"
   ]
  },
  {
   "cell_type": "code",
   "execution_count": 87,
   "metadata": {},
   "outputs": [
    {
     "name": "stdout",
     "output_type": "stream",
     "text": [
      "              precision    recall  f1-score   support\n",
      "\n",
      "           0       0.75      1.00      0.85      1058\n",
      "           1       0.44      0.01      0.02       357\n",
      "\n",
      "    accuracy                           0.75      1415\n",
      "   macro avg       0.60      0.50      0.44      1415\n",
      "weighted avg       0.67      0.75      0.64      1415\n",
      "\n"
     ]
    }
   ],
   "source": [
    "print(classification_report(y_test_np, predicted_labels))"
   ]
  },
  {
   "cell_type": "markdown",
   "metadata": {},
   "source": [
    "#### We conclude that the KNN classification algorithm implemented by ourselves has a better performance on macro avg and confusion matrix than those of scikit-learn based KNN classifier."
   ]
  }
 ],
 "metadata": {
  "kernelspec": {
   "display_name": "Python 3.7.1 ('base')",
   "language": "python",
   "name": "python3"
  },
  "language_info": {
   "codemirror_mode": {
    "name": "ipython",
    "version": 3
   },
   "file_extension": ".py",
   "mimetype": "text/x-python",
   "name": "python",
   "nbconvert_exporter": "python",
   "pygments_lexer": "ipython3",
   "version": "3.7.1"
  },
  "orig_nbformat": 4,
  "vscode": {
   "interpreter": {
    "hash": "5179d32cf6ec497baf3f8a3ef987cc77c5d2dc691fdde20a56316522f61a7323"
   }
  }
 },
 "nbformat": 4,
 "nbformat_minor": 2
}
